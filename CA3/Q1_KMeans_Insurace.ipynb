{
 "cells": [
  {
   "cell_type": "code",
   "execution_count": 159,
   "metadata": {},
   "outputs": [],
   "source": [
    "import pandas as pd\n",
    "import numpy as np"
   ]
  },
  {
   "cell_type": "code",
   "execution_count": 160,
   "metadata": {},
   "outputs": [
    {
     "data": {
      "text/html": [
       "<div>\n",
       "<style scoped>\n",
       "    .dataframe tbody tr th:only-of-type {\n",
       "        vertical-align: middle;\n",
       "    }\n",
       "\n",
       "    .dataframe tbody tr th {\n",
       "        vertical-align: top;\n",
       "    }\n",
       "\n",
       "    .dataframe thead th {\n",
       "        text-align: right;\n",
       "    }\n",
       "</style>\n",
       "<table border=\"1\" class=\"dataframe\">\n",
       "  <thead>\n",
       "    <tr style=\"text-align: right;\">\n",
       "      <th></th>\n",
       "      <th>ID</th>\n",
       "      <th>KIDSDRIV</th>\n",
       "      <th>BIRTH</th>\n",
       "      <th>AGE</th>\n",
       "      <th>HOMEKIDS</th>\n",
       "      <th>YOJ</th>\n",
       "      <th>INCOME</th>\n",
       "      <th>PARENT1</th>\n",
       "      <th>HOME_VAL</th>\n",
       "      <th>MSTATUS</th>\n",
       "      <th>...</th>\n",
       "      <th>CAR_TYPE</th>\n",
       "      <th>RED_CAR</th>\n",
       "      <th>OLDCLAIM</th>\n",
       "      <th>CLM_FREQ</th>\n",
       "      <th>REVOKED</th>\n",
       "      <th>MVR_PTS</th>\n",
       "      <th>CLM_AMT</th>\n",
       "      <th>CAR_AGE</th>\n",
       "      <th>CLAIM_FLAG</th>\n",
       "      <th>URBANICITY</th>\n",
       "    </tr>\n",
       "  </thead>\n",
       "  <tbody>\n",
       "    <tr>\n",
       "      <th>0</th>\n",
       "      <td>63581743</td>\n",
       "      <td>0</td>\n",
       "      <td>16MAR39</td>\n",
       "      <td>60.0</td>\n",
       "      <td>0</td>\n",
       "      <td>11.0</td>\n",
       "      <td>$67,349</td>\n",
       "      <td>No</td>\n",
       "      <td>$0</td>\n",
       "      <td>z_No</td>\n",
       "      <td>...</td>\n",
       "      <td>Minivan</td>\n",
       "      <td>yes</td>\n",
       "      <td>$4,461</td>\n",
       "      <td>2</td>\n",
       "      <td>No</td>\n",
       "      <td>3</td>\n",
       "      <td>$0</td>\n",
       "      <td>18.0</td>\n",
       "      <td>0</td>\n",
       "      <td>Highly Urban/ Urban</td>\n",
       "    </tr>\n",
       "    <tr>\n",
       "      <th>1</th>\n",
       "      <td>132761049</td>\n",
       "      <td>0</td>\n",
       "      <td>21JAN56</td>\n",
       "      <td>43.0</td>\n",
       "      <td>0</td>\n",
       "      <td>11.0</td>\n",
       "      <td>$91,449</td>\n",
       "      <td>No</td>\n",
       "      <td>$257,252</td>\n",
       "      <td>z_No</td>\n",
       "      <td>...</td>\n",
       "      <td>Minivan</td>\n",
       "      <td>yes</td>\n",
       "      <td>$0</td>\n",
       "      <td>0</td>\n",
       "      <td>No</td>\n",
       "      <td>0</td>\n",
       "      <td>$0</td>\n",
       "      <td>1.0</td>\n",
       "      <td>0</td>\n",
       "      <td>Highly Urban/ Urban</td>\n",
       "    </tr>\n",
       "    <tr>\n",
       "      <th>2</th>\n",
       "      <td>921317019</td>\n",
       "      <td>0</td>\n",
       "      <td>18NOV51</td>\n",
       "      <td>48.0</td>\n",
       "      <td>0</td>\n",
       "      <td>11.0</td>\n",
       "      <td>$52,881</td>\n",
       "      <td>No</td>\n",
       "      <td>$0</td>\n",
       "      <td>z_No</td>\n",
       "      <td>...</td>\n",
       "      <td>Van</td>\n",
       "      <td>yes</td>\n",
       "      <td>$0</td>\n",
       "      <td>0</td>\n",
       "      <td>No</td>\n",
       "      <td>2</td>\n",
       "      <td>$0</td>\n",
       "      <td>10.0</td>\n",
       "      <td>0</td>\n",
       "      <td>Highly Urban/ Urban</td>\n",
       "    </tr>\n",
       "    <tr>\n",
       "      <th>3</th>\n",
       "      <td>727598473</td>\n",
       "      <td>0</td>\n",
       "      <td>05MAR64</td>\n",
       "      <td>35.0</td>\n",
       "      <td>1</td>\n",
       "      <td>10.0</td>\n",
       "      <td>$16,039</td>\n",
       "      <td>No</td>\n",
       "      <td>$124,191</td>\n",
       "      <td>Yes</td>\n",
       "      <td>...</td>\n",
       "      <td>z_SUV</td>\n",
       "      <td>no</td>\n",
       "      <td>$38,690</td>\n",
       "      <td>2</td>\n",
       "      <td>No</td>\n",
       "      <td>3</td>\n",
       "      <td>$0</td>\n",
       "      <td>10.0</td>\n",
       "      <td>0</td>\n",
       "      <td>Highly Urban/ Urban</td>\n",
       "    </tr>\n",
       "    <tr>\n",
       "      <th>4</th>\n",
       "      <td>450221861</td>\n",
       "      <td>0</td>\n",
       "      <td>05JUN48</td>\n",
       "      <td>51.0</td>\n",
       "      <td>0</td>\n",
       "      <td>14.0</td>\n",
       "      <td>NaN</td>\n",
       "      <td>No</td>\n",
       "      <td>$306,251</td>\n",
       "      <td>Yes</td>\n",
       "      <td>...</td>\n",
       "      <td>Minivan</td>\n",
       "      <td>yes</td>\n",
       "      <td>$0</td>\n",
       "      <td>0</td>\n",
       "      <td>No</td>\n",
       "      <td>0</td>\n",
       "      <td>$0</td>\n",
       "      <td>6.0</td>\n",
       "      <td>0</td>\n",
       "      <td>Highly Urban/ Urban</td>\n",
       "    </tr>\n",
       "    <tr>\n",
       "      <th>...</th>\n",
       "      <td>...</td>\n",
       "      <td>...</td>\n",
       "      <td>...</td>\n",
       "      <td>...</td>\n",
       "      <td>...</td>\n",
       "      <td>...</td>\n",
       "      <td>...</td>\n",
       "      <td>...</td>\n",
       "      <td>...</td>\n",
       "      <td>...</td>\n",
       "      <td>...</td>\n",
       "      <td>...</td>\n",
       "      <td>...</td>\n",
       "      <td>...</td>\n",
       "      <td>...</td>\n",
       "      <td>...</td>\n",
       "      <td>...</td>\n",
       "      <td>...</td>\n",
       "      <td>...</td>\n",
       "      <td>...</td>\n",
       "      <td>...</td>\n",
       "    </tr>\n",
       "    <tr>\n",
       "      <th>10297</th>\n",
       "      <td>67790126</td>\n",
       "      <td>1</td>\n",
       "      <td>13AUG54</td>\n",
       "      <td>45.0</td>\n",
       "      <td>2</td>\n",
       "      <td>9.0</td>\n",
       "      <td>$164,669</td>\n",
       "      <td>No</td>\n",
       "      <td>$386,273</td>\n",
       "      <td>Yes</td>\n",
       "      <td>...</td>\n",
       "      <td>Minivan</td>\n",
       "      <td>no</td>\n",
       "      <td>$0</td>\n",
       "      <td>0</td>\n",
       "      <td>No</td>\n",
       "      <td>2</td>\n",
       "      <td>$0</td>\n",
       "      <td>17.0</td>\n",
       "      <td>0</td>\n",
       "      <td>Highly Urban/ Urban</td>\n",
       "    </tr>\n",
       "    <tr>\n",
       "      <th>10298</th>\n",
       "      <td>61970712</td>\n",
       "      <td>0</td>\n",
       "      <td>17JUN53</td>\n",
       "      <td>46.0</td>\n",
       "      <td>0</td>\n",
       "      <td>9.0</td>\n",
       "      <td>$107,204</td>\n",
       "      <td>No</td>\n",
       "      <td>$332,591</td>\n",
       "      <td>Yes</td>\n",
       "      <td>...</td>\n",
       "      <td>Panel Truck</td>\n",
       "      <td>no</td>\n",
       "      <td>$0</td>\n",
       "      <td>0</td>\n",
       "      <td>No</td>\n",
       "      <td>0</td>\n",
       "      <td>$0</td>\n",
       "      <td>1.0</td>\n",
       "      <td>0</td>\n",
       "      <td>Highly Urban/ Urban</td>\n",
       "    </tr>\n",
       "    <tr>\n",
       "      <th>10299</th>\n",
       "      <td>849208064</td>\n",
       "      <td>0</td>\n",
       "      <td>18JUN51</td>\n",
       "      <td>48.0</td>\n",
       "      <td>0</td>\n",
       "      <td>15.0</td>\n",
       "      <td>$39,837</td>\n",
       "      <td>No</td>\n",
       "      <td>$170,611</td>\n",
       "      <td>Yes</td>\n",
       "      <td>...</td>\n",
       "      <td>z_SUV</td>\n",
       "      <td>no</td>\n",
       "      <td>$0</td>\n",
       "      <td>0</td>\n",
       "      <td>No</td>\n",
       "      <td>0</td>\n",
       "      <td>$0</td>\n",
       "      <td>1.0</td>\n",
       "      <td>0</td>\n",
       "      <td>Highly Urban/ Urban</td>\n",
       "    </tr>\n",
       "    <tr>\n",
       "      <th>10300</th>\n",
       "      <td>627828331</td>\n",
       "      <td>0</td>\n",
       "      <td>12DEC48</td>\n",
       "      <td>50.0</td>\n",
       "      <td>0</td>\n",
       "      <td>7.0</td>\n",
       "      <td>$43,445</td>\n",
       "      <td>No</td>\n",
       "      <td>$149,248</td>\n",
       "      <td>Yes</td>\n",
       "      <td>...</td>\n",
       "      <td>Minivan</td>\n",
       "      <td>no</td>\n",
       "      <td>$0</td>\n",
       "      <td>0</td>\n",
       "      <td>No</td>\n",
       "      <td>0</td>\n",
       "      <td>$0</td>\n",
       "      <td>11.0</td>\n",
       "      <td>0</td>\n",
       "      <td>Highly Urban/ Urban</td>\n",
       "    </tr>\n",
       "    <tr>\n",
       "      <th>10301</th>\n",
       "      <td>680381960</td>\n",
       "      <td>0</td>\n",
       "      <td>27FEB47</td>\n",
       "      <td>52.0</td>\n",
       "      <td>0</td>\n",
       "      <td>11.0</td>\n",
       "      <td>$53,235</td>\n",
       "      <td>No</td>\n",
       "      <td>$197,017</td>\n",
       "      <td>Yes</td>\n",
       "      <td>...</td>\n",
       "      <td>Minivan</td>\n",
       "      <td>no</td>\n",
       "      <td>$0</td>\n",
       "      <td>0</td>\n",
       "      <td>No</td>\n",
       "      <td>0</td>\n",
       "      <td>$0</td>\n",
       "      <td>9.0</td>\n",
       "      <td>0</td>\n",
       "      <td>z_Highly Rural/ Rural</td>\n",
       "    </tr>\n",
       "  </tbody>\n",
       "</table>\n",
       "<p>10302 rows × 27 columns</p>\n",
       "</div>"
      ],
      "text/plain": [
       "              ID  KIDSDRIV    BIRTH   AGE  HOMEKIDS   YOJ    INCOME PARENT1  \\\n",
       "0       63581743         0  16MAR39  60.0         0  11.0   $67,349      No   \n",
       "1      132761049         0  21JAN56  43.0         0  11.0   $91,449      No   \n",
       "2      921317019         0  18NOV51  48.0         0  11.0   $52,881      No   \n",
       "3      727598473         0  05MAR64  35.0         1  10.0   $16,039      No   \n",
       "4      450221861         0  05JUN48  51.0         0  14.0       NaN      No   \n",
       "...          ...       ...      ...   ...       ...   ...       ...     ...   \n",
       "10297   67790126         1  13AUG54  45.0         2   9.0  $164,669      No   \n",
       "10298   61970712         0  17JUN53  46.0         0   9.0  $107,204      No   \n",
       "10299  849208064         0  18JUN51  48.0         0  15.0   $39,837      No   \n",
       "10300  627828331         0  12DEC48  50.0         0   7.0   $43,445      No   \n",
       "10301  680381960         0  27FEB47  52.0         0  11.0   $53,235      No   \n",
       "\n",
       "       HOME_VAL MSTATUS  ...     CAR_TYPE RED_CAR OLDCLAIM  CLM_FREQ REVOKED  \\\n",
       "0            $0    z_No  ...      Minivan     yes   $4,461         2      No   \n",
       "1      $257,252    z_No  ...      Minivan     yes       $0         0      No   \n",
       "2            $0    z_No  ...          Van     yes       $0         0      No   \n",
       "3      $124,191     Yes  ...        z_SUV      no  $38,690         2      No   \n",
       "4      $306,251     Yes  ...      Minivan     yes       $0         0      No   \n",
       "...         ...     ...  ...          ...     ...      ...       ...     ...   \n",
       "10297  $386,273     Yes  ...      Minivan      no       $0         0      No   \n",
       "10298  $332,591     Yes  ...  Panel Truck      no       $0         0      No   \n",
       "10299  $170,611     Yes  ...        z_SUV      no       $0         0      No   \n",
       "10300  $149,248     Yes  ...      Minivan      no       $0         0      No   \n",
       "10301  $197,017     Yes  ...      Minivan      no       $0         0      No   \n",
       "\n",
       "      MVR_PTS  CLM_AMT CAR_AGE CLAIM_FLAG             URBANICITY  \n",
       "0           3       $0    18.0          0    Highly Urban/ Urban  \n",
       "1           0       $0     1.0          0    Highly Urban/ Urban  \n",
       "2           2       $0    10.0          0    Highly Urban/ Urban  \n",
       "3           3       $0    10.0          0    Highly Urban/ Urban  \n",
       "4           0       $0     6.0          0    Highly Urban/ Urban  \n",
       "...       ...      ...     ...        ...                    ...  \n",
       "10297       2       $0    17.0          0    Highly Urban/ Urban  \n",
       "10298       0       $0     1.0          0    Highly Urban/ Urban  \n",
       "10299       0       $0     1.0          0    Highly Urban/ Urban  \n",
       "10300       0       $0    11.0          0    Highly Urban/ Urban  \n",
       "10301       0       $0     9.0          0  z_Highly Rural/ Rural  \n",
       "\n",
       "[10302 rows x 27 columns]"
      ]
     },
     "execution_count": 160,
     "metadata": {},
     "output_type": "execute_result"
    }
   ],
   "source": [
    "df = pd.read_csv(\"./datasets/car_insurance.csv\")\n",
    "df"
   ]
  },
  {
   "cell_type": "code",
   "execution_count": 161,
   "metadata": {},
   "outputs": [
    {
     "name": "stdout",
     "output_type": "stream",
     "text": [
      "<class 'pandas.core.frame.DataFrame'>\n",
      "RangeIndex: 10302 entries, 0 to 10301\n",
      "Data columns (total 27 columns):\n",
      " #   Column      Non-Null Count  Dtype  \n",
      "---  ------      --------------  -----  \n",
      " 0   ID          10302 non-null  int64  \n",
      " 1   KIDSDRIV    10302 non-null  int64  \n",
      " 2   BIRTH       10302 non-null  object \n",
      " 3   AGE         10295 non-null  float64\n",
      " 4   HOMEKIDS    10302 non-null  int64  \n",
      " 5   YOJ         9754 non-null   float64\n",
      " 6   INCOME      9732 non-null   object \n",
      " 7   PARENT1     10302 non-null  object \n",
      " 8   HOME_VAL    9727 non-null   object \n",
      " 9   MSTATUS     10302 non-null  object \n",
      " 10  GENDER      10302 non-null  object \n",
      " 11  EDUCATION   10302 non-null  object \n",
      " 12  OCCUPATION  9637 non-null   object \n",
      " 13  TRAVTIME    10302 non-null  int64  \n",
      " 14  CAR_USE     10302 non-null  object \n",
      " 15  BLUEBOOK    10302 non-null  object \n",
      " 16  TIF         10302 non-null  int64  \n",
      " 17  CAR_TYPE    10302 non-null  object \n",
      " 18  RED_CAR     10302 non-null  object \n",
      " 19  OLDCLAIM    10302 non-null  object \n",
      " 20  CLM_FREQ    10302 non-null  int64  \n",
      " 21  REVOKED     10302 non-null  object \n",
      " 22  MVR_PTS     10302 non-null  int64  \n",
      " 23  CLM_AMT     10302 non-null  object \n",
      " 24  CAR_AGE     9663 non-null   float64\n",
      " 25  CLAIM_FLAG  10302 non-null  int64  \n",
      " 26  URBANICITY  10302 non-null  object \n",
      "dtypes: float64(3), int64(8), object(16)\n",
      "memory usage: 2.1+ MB\n"
     ]
    }
   ],
   "source": [
    "df.info()"
   ]
  },
  {
   "cell_type": "code",
   "execution_count": 162,
   "metadata": {},
   "outputs": [
    {
     "data": {
      "text/plain": [
       "ID              0\n",
       "KIDSDRIV        0\n",
       "BIRTH           0\n",
       "AGE             7\n",
       "HOMEKIDS        0\n",
       "YOJ           548\n",
       "INCOME        570\n",
       "PARENT1         0\n",
       "HOME_VAL      575\n",
       "MSTATUS         0\n",
       "GENDER          0\n",
       "EDUCATION       0\n",
       "OCCUPATION    665\n",
       "TRAVTIME        0\n",
       "CAR_USE         0\n",
       "BLUEBOOK        0\n",
       "TIF             0\n",
       "CAR_TYPE        0\n",
       "RED_CAR         0\n",
       "OLDCLAIM        0\n",
       "CLM_FREQ        0\n",
       "REVOKED         0\n",
       "MVR_PTS         0\n",
       "CLM_AMT         0\n",
       "CAR_AGE       639\n",
       "CLAIM_FLAG      0\n",
       "URBANICITY      0\n",
       "dtype: int64"
      ]
     },
     "execution_count": 162,
     "metadata": {},
     "output_type": "execute_result"
    }
   ],
   "source": [
    "df.isnull().sum()"
   ]
  },
  {
   "cell_type": "code",
   "execution_count": 163,
   "metadata": {},
   "outputs": [
    {
     "name": "stderr",
     "output_type": "stream",
     "text": [
      "/tmp/ipykernel_9913/3579901345.py:1: FutureWarning: The default value of regex will change from True to False in a future version. In addition, single character regular expressions will *not* be treated as literal strings when regex=True.\n",
      "  df['INCOME'] = df['INCOME'].str.replace('$', '').str.replace(',', '').astype(float)\n",
      "/tmp/ipykernel_9913/3579901345.py:2: FutureWarning: The default value of regex will change from True to False in a future version. In addition, single character regular expressions will *not* be treated as literal strings when regex=True.\n",
      "  df['HOME_VAL'] = df['HOME_VAL'].str.replace('$', '').str.replace(',', '').astype(float)\n",
      "/tmp/ipykernel_9913/3579901345.py:3: FutureWarning: The default value of regex will change from True to False in a future version. In addition, single character regular expressions will *not* be treated as literal strings when regex=True.\n",
      "  df[\"CLM_AMT\"] = df[\"CLM_AMT\"].str.replace('$', '').str.replace(',', '').astype(float)\n",
      "/tmp/ipykernel_9913/3579901345.py:4: FutureWarning: The default value of regex will change from True to False in a future version. In addition, single character regular expressions will *not* be treated as literal strings when regex=True.\n",
      "  df[\"BLUEBOOK\"] = df[\"BLUEBOOK\"].str.replace('$', '').str.replace(',', '').astype(float)\n",
      "/tmp/ipykernel_9913/3579901345.py:5: FutureWarning: The default value of regex will change from True to False in a future version. In addition, single character regular expressions will *not* be treated as literal strings when regex=True.\n",
      "  df[\"OLDCLAIM\"] = df[\"OLDCLAIM\"].str.replace('$', '').str.replace(',', '').astype(float)\n"
     ]
    }
   ],
   "source": [
    "\n",
    "df['INCOME'] = df['INCOME'].str.replace('$', '').str.replace(',', '').astype(float)\n",
    "df['HOME_VAL'] = df['HOME_VAL'].str.replace('$', '').str.replace(',', '').astype(float)\n",
    "df[\"CLM_AMT\"] = df[\"CLM_AMT\"].str.replace('$', '').str.replace(',', '').astype(float)\n",
    "df[\"BLUEBOOK\"] = df[\"BLUEBOOK\"].str.replace('$', '').str.replace(',', '').astype(float)\n",
    "df[\"OLDCLAIM\"] = df[\"OLDCLAIM\"].str.replace('$', '').str.replace(',', '').astype(float)\n",
    "\n",
    "df['OCCUPATION'].fillna(df['OCCUPATION'].mode()[0], inplace=True)\n",
    "df[\"INCOME\"].fillna(df[\"INCOME\"].median(), inplace=True)\n",
    "df[\"YOJ\"].fillna(df[\"YOJ\"].median(), inplace=True)\n",
    "df[\"CAR_AGE\"].fillna(df[\"CAR_AGE\"].mode()[0], inplace=True)\n",
    "df[\"HOME_VAL\"].fillna(df[\"HOME_VAL\"].median(), inplace=True)\n",
    "df.dropna(subset=['AGE'], inplace=True)"
   ]
  },
  {
   "cell_type": "code",
   "execution_count": 164,
   "metadata": {},
   "outputs": [
    {
     "data": {
      "text/plain": [
       "ID            0\n",
       "KIDSDRIV      0\n",
       "BIRTH         0\n",
       "AGE           0\n",
       "HOMEKIDS      0\n",
       "YOJ           0\n",
       "INCOME        0\n",
       "PARENT1       0\n",
       "HOME_VAL      0\n",
       "MSTATUS       0\n",
       "GENDER        0\n",
       "EDUCATION     0\n",
       "OCCUPATION    0\n",
       "TRAVTIME      0\n",
       "CAR_USE       0\n",
       "BLUEBOOK      0\n",
       "TIF           0\n",
       "CAR_TYPE      0\n",
       "RED_CAR       0\n",
       "OLDCLAIM      0\n",
       "CLM_FREQ      0\n",
       "REVOKED       0\n",
       "MVR_PTS       0\n",
       "CLM_AMT       0\n",
       "CAR_AGE       0\n",
       "CLAIM_FLAG    0\n",
       "URBANICITY    0\n",
       "dtype: int64"
      ]
     },
     "execution_count": 164,
     "metadata": {},
     "output_type": "execute_result"
    }
   ],
   "source": [
    "df.isnull().sum()"
   ]
  },
  {
   "cell_type": "code",
   "execution_count": 165,
   "metadata": {},
   "outputs": [
    {
     "name": "stdout",
     "output_type": "stream",
     "text": [
      "<class 'pandas.core.frame.DataFrame'>\n",
      "Int64Index: 10295 entries, 0 to 10301\n",
      "Data columns (total 27 columns):\n",
      " #   Column      Non-Null Count  Dtype  \n",
      "---  ------      --------------  -----  \n",
      " 0   ID          10295 non-null  int64  \n",
      " 1   KIDSDRIV    10295 non-null  int64  \n",
      " 2   BIRTH       10295 non-null  object \n",
      " 3   AGE         10295 non-null  float64\n",
      " 4   HOMEKIDS    10295 non-null  int64  \n",
      " 5   YOJ         10295 non-null  float64\n",
      " 6   INCOME      10295 non-null  float64\n",
      " 7   PARENT1     10295 non-null  object \n",
      " 8   HOME_VAL    10295 non-null  float64\n",
      " 9   MSTATUS     10295 non-null  object \n",
      " 10  GENDER      10295 non-null  object \n",
      " 11  EDUCATION   10295 non-null  object \n",
      " 12  OCCUPATION  10295 non-null  object \n",
      " 13  TRAVTIME    10295 non-null  int64  \n",
      " 14  CAR_USE     10295 non-null  object \n",
      " 15  BLUEBOOK    10295 non-null  float64\n",
      " 16  TIF         10295 non-null  int64  \n",
      " 17  CAR_TYPE    10295 non-null  object \n",
      " 18  RED_CAR     10295 non-null  object \n",
      " 19  OLDCLAIM    10295 non-null  float64\n",
      " 20  CLM_FREQ    10295 non-null  int64  \n",
      " 21  REVOKED     10295 non-null  object \n",
      " 22  MVR_PTS     10295 non-null  int64  \n",
      " 23  CLM_AMT     10295 non-null  float64\n",
      " 24  CAR_AGE     10295 non-null  float64\n",
      " 25  CLAIM_FLAG  10295 non-null  int64  \n",
      " 26  URBANICITY  10295 non-null  object \n",
      "dtypes: float64(8), int64(8), object(11)\n",
      "memory usage: 2.2+ MB\n"
     ]
    }
   ],
   "source": [
    "df.info()"
   ]
  },
  {
   "cell_type": "code",
   "execution_count": 166,
   "metadata": {},
   "outputs": [],
   "source": [
    "df.drop('BIRTH', axis=1, inplace=True)"
   ]
  },
  {
   "cell_type": "code",
   "execution_count": 167,
   "metadata": {},
   "outputs": [],
   "source": [
    "df[\"PARENT1\"] = df[\"PARENT1\"].replace({\"Yes\": 1, \"No\": 0})\n"
   ]
  },
  {
   "cell_type": "code",
   "execution_count": 168,
   "metadata": {},
   "outputs": [],
   "source": [
    "df[\"MSTATUS\"] = df[\"MSTATUS\"].replace({\"Yes\": 1, \"z_No\": 0})"
   ]
  },
  {
   "cell_type": "code",
   "execution_count": 169,
   "metadata": {},
   "outputs": [],
   "source": [
    "df[\"GENDER\"] = df[\"GENDER\"].replace({\"z_F\": 0, \"M\": 1})"
   ]
  },
  {
   "cell_type": "code",
   "execution_count": 170,
   "metadata": {},
   "outputs": [],
   "source": [
    "df[\"CAR_USE\"] = df[\"CAR_USE\"].replace({\"Private\": 0, \"Commercial\": 1})"
   ]
  },
  {
   "cell_type": "code",
   "execution_count": 171,
   "metadata": {},
   "outputs": [],
   "source": [
    "df[\"RED_CAR\"] = df[\"RED_CAR\"].replace({\"yes\": 1, \"no\": 0})"
   ]
  },
  {
   "cell_type": "code",
   "execution_count": 172,
   "metadata": {},
   "outputs": [],
   "source": [
    "df[\"REVOKED\"] = df[\"REVOKED\"].replace({\"Yes\": 1, \"No\": 0})"
   ]
  },
  {
   "cell_type": "code",
   "execution_count": 173,
   "metadata": {},
   "outputs": [],
   "source": [
    "# df[\"EDUCATION\"] = df[\"EDUCATION\"].replace({\"<High School\": 0, \"z_High School\": 1, \"Bachelors\": 2, \"Masters\": 3, \"PhD\": 4})"
   ]
  },
  {
   "cell_type": "code",
   "execution_count": 174,
   "metadata": {},
   "outputs": [],
   "source": [
    "df = pd.get_dummies(df, columns=['EDUCATION', 'OCCUPATION', 'CAR_TYPE', 'URBANICITY'], drop_first=True)"
   ]
  },
  {
   "cell_type": "code",
   "execution_count": 175,
   "metadata": {},
   "outputs": [
    {
     "name": "stdout",
     "output_type": "stream",
     "text": [
      "<class 'pandas.core.frame.DataFrame'>\n",
      "Int64Index: 10295 entries, 0 to 10301\n",
      "Data columns (total 39 columns):\n",
      " #   Column                            Non-Null Count  Dtype  \n",
      "---  ------                            --------------  -----  \n",
      " 0   ID                                10295 non-null  int64  \n",
      " 1   KIDSDRIV                          10295 non-null  int64  \n",
      " 2   AGE                               10295 non-null  float64\n",
      " 3   HOMEKIDS                          10295 non-null  int64  \n",
      " 4   YOJ                               10295 non-null  float64\n",
      " 5   INCOME                            10295 non-null  float64\n",
      " 6   PARENT1                           10295 non-null  int64  \n",
      " 7   HOME_VAL                          10295 non-null  float64\n",
      " 8   MSTATUS                           10295 non-null  int64  \n",
      " 9   GENDER                            10295 non-null  int64  \n",
      " 10  TRAVTIME                          10295 non-null  int64  \n",
      " 11  CAR_USE                           10295 non-null  int64  \n",
      " 12  BLUEBOOK                          10295 non-null  float64\n",
      " 13  TIF                               10295 non-null  int64  \n",
      " 14  RED_CAR                           10295 non-null  int64  \n",
      " 15  OLDCLAIM                          10295 non-null  float64\n",
      " 16  CLM_FREQ                          10295 non-null  int64  \n",
      " 17  REVOKED                           10295 non-null  int64  \n",
      " 18  MVR_PTS                           10295 non-null  int64  \n",
      " 19  CLM_AMT                           10295 non-null  float64\n",
      " 20  CAR_AGE                           10295 non-null  float64\n",
      " 21  CLAIM_FLAG                        10295 non-null  int64  \n",
      " 22  EDUCATION_Bachelors               10295 non-null  uint8  \n",
      " 23  EDUCATION_Masters                 10295 non-null  uint8  \n",
      " 24  EDUCATION_PhD                     10295 non-null  uint8  \n",
      " 25  EDUCATION_z_High School           10295 non-null  uint8  \n",
      " 26  OCCUPATION_Doctor                 10295 non-null  uint8  \n",
      " 27  OCCUPATION_Home Maker             10295 non-null  uint8  \n",
      " 28  OCCUPATION_Lawyer                 10295 non-null  uint8  \n",
      " 29  OCCUPATION_Manager                10295 non-null  uint8  \n",
      " 30  OCCUPATION_Professional           10295 non-null  uint8  \n",
      " 31  OCCUPATION_Student                10295 non-null  uint8  \n",
      " 32  OCCUPATION_z_Blue Collar          10295 non-null  uint8  \n",
      " 33  CAR_TYPE_Panel Truck              10295 non-null  uint8  \n",
      " 34  CAR_TYPE_Pickup                   10295 non-null  uint8  \n",
      " 35  CAR_TYPE_Sports Car               10295 non-null  uint8  \n",
      " 36  CAR_TYPE_Van                      10295 non-null  uint8  \n",
      " 37  CAR_TYPE_z_SUV                    10295 non-null  uint8  \n",
      " 38  URBANICITY_z_Highly Rural/ Rural  10295 non-null  uint8  \n",
      "dtypes: float64(8), int64(14), uint8(17)\n",
      "memory usage: 2.0 MB\n"
     ]
    }
   ],
   "source": [
    "df.info()"
   ]
  },
  {
   "cell_type": "code",
   "execution_count": 176,
   "metadata": {},
   "outputs": [
    {
     "name": "stderr",
     "output_type": "stream",
     "text": [
      "/home/vavre/data-mining/venv/lib/python3.10/site-packages/sklearn/cluster/_kmeans.py:870: FutureWarning: The default value of `n_init` will change from 10 to 'auto' in 1.4. Set the value of `n_init` explicitly to suppress the warning\n",
      "  warnings.warn(\n"
     ]
    },
    {
     "name": "stdout",
     "output_type": "stream",
     "text": [
      "Cluster count: 2, Silhouette score: 0.6251738782812966\n"
     ]
    },
    {
     "name": "stderr",
     "output_type": "stream",
     "text": [
      "/home/vavre/data-mining/venv/lib/python3.10/site-packages/sklearn/cluster/_kmeans.py:870: FutureWarning: The default value of `n_init` will change from 10 to 'auto' in 1.4. Set the value of `n_init` explicitly to suppress the warning\n",
      "  warnings.warn(\n"
     ]
    },
    {
     "name": "stdout",
     "output_type": "stream",
     "text": [
      "Cluster count: 3, Silhouette score: 0.5873179595878854\n"
     ]
    },
    {
     "name": "stderr",
     "output_type": "stream",
     "text": [
      "/home/vavre/data-mining/venv/lib/python3.10/site-packages/sklearn/cluster/_kmeans.py:870: FutureWarning: The default value of `n_init` will change from 10 to 'auto' in 1.4. Set the value of `n_init` explicitly to suppress the warning\n",
      "  warnings.warn(\n"
     ]
    },
    {
     "name": "stdout",
     "output_type": "stream",
     "text": [
      "Cluster count: 4, Silhouette score: 0.5718549782947221\n"
     ]
    },
    {
     "name": "stderr",
     "output_type": "stream",
     "text": [
      "/home/vavre/data-mining/venv/lib/python3.10/site-packages/sklearn/cluster/_kmeans.py:870: FutureWarning: The default value of `n_init` will change from 10 to 'auto' in 1.4. Set the value of `n_init` explicitly to suppress the warning\n",
      "  warnings.warn(\n"
     ]
    },
    {
     "name": "stdout",
     "output_type": "stream",
     "text": [
      "Cluster count: 5, Silhouette score: 0.5636533141571474\n"
     ]
    },
    {
     "name": "stderr",
     "output_type": "stream",
     "text": [
      "/home/vavre/data-mining/venv/lib/python3.10/site-packages/sklearn/cluster/_kmeans.py:870: FutureWarning: The default value of `n_init` will change from 10 to 'auto' in 1.4. Set the value of `n_init` explicitly to suppress the warning\n",
      "  warnings.warn(\n"
     ]
    },
    {
     "name": "stdout",
     "output_type": "stream",
     "text": [
      "Cluster count: 6, Silhouette score: 0.5515306275134545\n"
     ]
    },
    {
     "name": "stderr",
     "output_type": "stream",
     "text": [
      "/home/vavre/data-mining/venv/lib/python3.10/site-packages/sklearn/cluster/_kmeans.py:870: FutureWarning: The default value of `n_init` will change from 10 to 'auto' in 1.4. Set the value of `n_init` explicitly to suppress the warning\n",
      "  warnings.warn(\n"
     ]
    },
    {
     "name": "stdout",
     "output_type": "stream",
     "text": [
      "Cluster count: 7, Silhouette score: 0.5497941192041639\n"
     ]
    },
    {
     "name": "stderr",
     "output_type": "stream",
     "text": [
      "/home/vavre/data-mining/venv/lib/python3.10/site-packages/sklearn/cluster/_kmeans.py:870: FutureWarning: The default value of `n_init` will change from 10 to 'auto' in 1.4. Set the value of `n_init` explicitly to suppress the warning\n",
      "  warnings.warn(\n"
     ]
    },
    {
     "name": "stdout",
     "output_type": "stream",
     "text": [
      "Cluster count: 8, Silhouette score: 0.548225207700398\n"
     ]
    },
    {
     "name": "stderr",
     "output_type": "stream",
     "text": [
      "/home/vavre/data-mining/venv/lib/python3.10/site-packages/sklearn/cluster/_kmeans.py:870: FutureWarning: The default value of `n_init` will change from 10 to 'auto' in 1.4. Set the value of `n_init` explicitly to suppress the warning\n",
      "  warnings.warn(\n"
     ]
    },
    {
     "name": "stdout",
     "output_type": "stream",
     "text": [
      "Cluster count: 9, Silhouette score: 0.546915472021779\n"
     ]
    },
    {
     "name": "stderr",
     "output_type": "stream",
     "text": [
      "/home/vavre/data-mining/venv/lib/python3.10/site-packages/sklearn/cluster/_kmeans.py:870: FutureWarning: The default value of `n_init` will change from 10 to 'auto' in 1.4. Set the value of `n_init` explicitly to suppress the warning\n",
      "  warnings.warn(\n"
     ]
    },
    {
     "name": "stdout",
     "output_type": "stream",
     "text": [
      "Cluster count: 10, Silhouette score: 0.5452142509045997\n"
     ]
    }
   ],
   "source": [
    "from sklearn.cluster import KMeans\n",
    "from sklearn.metrics import silhouette_score\n",
    "import pandas as pd\n",
    "\n",
    "# Load data into a Pandas DataFrame\n",
    "\n",
    "# Define range of cluster counts to try\n",
    "cluster_counts = range(2, 11)\n",
    "\n",
    "# Iterate over cluster counts and perform clustering\n",
    "for n_clusters in cluster_counts:\n",
    "    # Initialize KMeans model with n_clusters\n",
    "    kmeans = KMeans(n_clusters=n_clusters, random_state=42)\n",
    "\n",
    "    # Fit KMeans model to data\n",
    "    kmeans.fit(df)\n",
    "\n",
    "    # Get cluster labels and silhouette score\n",
    "    labels = kmeans.labels_\n",
    "    score = silhouette_score(df, labels)\n",
    "\n",
    "    # Print results\n",
    "    print(f\"Cluster count: {n_clusters}, Silhouette score: {score}\")"
   ]
  },
  {
   "cell_type": "code",
   "execution_count": null,
   "metadata": {},
   "outputs": [],
   "source": []
  }
 ],
 "metadata": {
  "kernelspec": {
   "display_name": "venv",
   "language": "python",
   "name": "python3"
  },
  "language_info": {
   "codemirror_mode": {
    "name": "ipython",
    "version": 3
   },
   "file_extension": ".py",
   "mimetype": "text/x-python",
   "name": "python",
   "nbconvert_exporter": "python",
   "pygments_lexer": "ipython3",
   "version": "3.10.6"
  },
  "orig_nbformat": 4
 },
 "nbformat": 4,
 "nbformat_minor": 2
}
