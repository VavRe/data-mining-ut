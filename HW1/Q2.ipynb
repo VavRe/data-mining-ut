{
 "cells": [
  {
   "cell_type": "code",
   "execution_count": 1,
   "metadata": {},
   "outputs": [],
   "source": [
    "import numpy as np\n",
    "import pandas as pd\n",
    "import seaborn as sns\n",
    "import matplotlib.pyplot as plt\n",
    "import requests"
   ]
  },
  {
   "cell_type": "code",
   "execution_count": 10,
   "metadata": {},
   "outputs": [],
   "source": [
    "API_KEY = \"8b491b601812f2ddd75d2597\"\n",
    "API_BASE_URL = f\"https://v6.exchangerate-api.com/v6/{API_KEY}/latest/USD\"\n",
    "rates = requests.get(API_BASE_URL).json()['conversion_rates']"
   ]
  },
  {
   "cell_type": "code",
   "execution_count": 13,
   "metadata": {},
   "outputs": [
    {
     "data": {
      "text/html": [
       "<div>\n",
       "<style scoped>\n",
       "    .dataframe tbody tr th:only-of-type {\n",
       "        vertical-align: middle;\n",
       "    }\n",
       "\n",
       "    .dataframe tbody tr th {\n",
       "        vertical-align: top;\n",
       "    }\n",
       "\n",
       "    .dataframe thead th {\n",
       "        text-align: right;\n",
       "    }\n",
       "</style>\n",
       "<table border=\"1\" class=\"dataframe\">\n",
       "  <thead>\n",
       "    <tr style=\"text-align: right;\">\n",
       "      <th></th>\n",
       "      <th>user_id</th>\n",
       "      <th>SKU</th>\n",
       "      <th>AddedTime</th>\n",
       "      <th>Price</th>\n",
       "      <th>CurrencyISO</th>\n",
       "    </tr>\n",
       "  </thead>\n",
       "  <tbody>\n",
       "    <tr>\n",
       "      <th>0</th>\n",
       "      <td>6192636</td>\n",
       "      <td>personal_offer_starter_pack</td>\n",
       "      <td>2023-01-31 13:16:55.991756+00:00</td>\n",
       "      <td>2.29</td>\n",
       "      <td>GBP</td>\n",
       "    </tr>\n",
       "    <tr>\n",
       "      <th>1</th>\n",
       "      <td>5954105</td>\n",
       "      <td>bundle_pack_1</td>\n",
       "      <td>2023-01-06 19:20:33.631714+00:00</td>\n",
       "      <td>1.79</td>\n",
       "      <td>EUR</td>\n",
       "    </tr>\n",
       "    <tr>\n",
       "      <th>2</th>\n",
       "      <td>5954105</td>\n",
       "      <td>coin_pack_1</td>\n",
       "      <td>2023-01-07 15:56:47.792655+00:00</td>\n",
       "      <td>0.79</td>\n",
       "      <td>EUR</td>\n",
       "    </tr>\n",
       "    <tr>\n",
       "      <th>3</th>\n",
       "      <td>5903715</td>\n",
       "      <td>bundle_pack_1</td>\n",
       "      <td>2023-01-01 18:48:38.391356+00:00</td>\n",
       "      <td>1.99</td>\n",
       "      <td>USD</td>\n",
       "    </tr>\n",
       "    <tr>\n",
       "      <th>4</th>\n",
       "      <td>5984323</td>\n",
       "      <td>golden_ticket_season_pass</td>\n",
       "      <td>2023-01-11 21:13:47.161073+00:00</td>\n",
       "      <td>9.99</td>\n",
       "      <td>USD</td>\n",
       "    </tr>\n",
       "  </tbody>\n",
       "</table>\n",
       "</div>"
      ],
      "text/plain": [
       "   user_id                          SKU                         AddedTime  \\\n",
       "0  6192636  personal_offer_starter_pack  2023-01-31 13:16:55.991756+00:00   \n",
       "1  5954105                bundle_pack_1  2023-01-06 19:20:33.631714+00:00   \n",
       "2  5954105                  coin_pack_1  2023-01-07 15:56:47.792655+00:00   \n",
       "3  5903715                bundle_pack_1  2023-01-01 18:48:38.391356+00:00   \n",
       "4  5984323    golden_ticket_season_pass  2023-01-11 21:13:47.161073+00:00   \n",
       "\n",
       "   Price CurrencyISO  \n",
       "0   2.29         GBP  \n",
       "1   1.79         EUR  \n",
       "2   0.79         EUR  \n",
       "3   1.99         USD  \n",
       "4   9.99         USD  "
      ]
     },
     "execution_count": 13,
     "metadata": {},
     "output_type": "execute_result"
    }
   ],
   "source": [
    "users = pd.read_csv(\"./Datasets/users.csv\")\n",
    "purchases = pd.read_csv(\"./Datasets/purchases.csv\")\n",
    "purchases.head(5)"
   ]
  },
  {
   "attachments": {},
   "cell_type": "markdown",
   "metadata": {},
   "source": [
    "# Preprocessing"
   ]
  },
  {
   "cell_type": "code",
   "execution_count": 29,
   "metadata": {},
   "outputs": [
    {
     "data": {
      "text/html": [
       "<div>\n",
       "<style scoped>\n",
       "    .dataframe tbody tr th:only-of-type {\n",
       "        vertical-align: middle;\n",
       "    }\n",
       "\n",
       "    .dataframe tbody tr th {\n",
       "        vertical-align: top;\n",
       "    }\n",
       "\n",
       "    .dataframe thead th {\n",
       "        text-align: right;\n",
       "    }\n",
       "</style>\n",
       "<table border=\"1\" class=\"dataframe\">\n",
       "  <thead>\n",
       "    <tr style=\"text-align: right;\">\n",
       "      <th></th>\n",
       "      <th>user_id</th>\n",
       "      <th>SKU</th>\n",
       "      <th>AddedTime</th>\n",
       "      <th>Price</th>\n",
       "      <th>CurrencyISO</th>\n",
       "      <th>PriceUSD</th>\n",
       "    </tr>\n",
       "  </thead>\n",
       "  <tbody>\n",
       "    <tr>\n",
       "      <th>0</th>\n",
       "      <td>6192636</td>\n",
       "      <td>personal_offer_starter_pack</td>\n",
       "      <td>2023-01-31 13:16:55.991756+00:00</td>\n",
       "      <td>2.29</td>\n",
       "      <td>GBP</td>\n",
       "      <td>2.760699</td>\n",
       "    </tr>\n",
       "    <tr>\n",
       "      <th>1</th>\n",
       "      <td>5954105</td>\n",
       "      <td>bundle_pack_1</td>\n",
       "      <td>2023-01-06 19:20:33.631714+00:00</td>\n",
       "      <td>1.79</td>\n",
       "      <td>EUR</td>\n",
       "      <td>1.891978</td>\n",
       "    </tr>\n",
       "    <tr>\n",
       "      <th>2</th>\n",
       "      <td>5954105</td>\n",
       "      <td>coin_pack_1</td>\n",
       "      <td>2023-01-07 15:56:47.792655+00:00</td>\n",
       "      <td>0.79</td>\n",
       "      <td>EUR</td>\n",
       "      <td>0.835007</td>\n",
       "    </tr>\n",
       "    <tr>\n",
       "      <th>3</th>\n",
       "      <td>5903715</td>\n",
       "      <td>bundle_pack_1</td>\n",
       "      <td>2023-01-01 18:48:38.391356+00:00</td>\n",
       "      <td>1.99</td>\n",
       "      <td>USD</td>\n",
       "      <td>1.990000</td>\n",
       "    </tr>\n",
       "    <tr>\n",
       "      <th>4</th>\n",
       "      <td>5984323</td>\n",
       "      <td>golden_ticket_season_pass</td>\n",
       "      <td>2023-01-11 21:13:47.161073+00:00</td>\n",
       "      <td>9.99</td>\n",
       "      <td>USD</td>\n",
       "      <td>9.990000</td>\n",
       "    </tr>\n",
       "  </tbody>\n",
       "</table>\n",
       "</div>"
      ],
      "text/plain": [
       "   user_id                          SKU                         AddedTime  \\\n",
       "0  6192636  personal_offer_starter_pack  2023-01-31 13:16:55.991756+00:00   \n",
       "1  5954105                bundle_pack_1  2023-01-06 19:20:33.631714+00:00   \n",
       "2  5954105                  coin_pack_1  2023-01-07 15:56:47.792655+00:00   \n",
       "3  5903715                bundle_pack_1  2023-01-01 18:48:38.391356+00:00   \n",
       "4  5984323    golden_ticket_season_pass  2023-01-11 21:13:47.161073+00:00   \n",
       "\n",
       "   Price CurrencyISO  PriceUSD  \n",
       "0   2.29         GBP  2.760699  \n",
       "1   1.79         EUR  1.891978  \n",
       "2   0.79         EUR  0.835007  \n",
       "3   1.99         USD  1.990000  \n",
       "4   9.99         USD  9.990000  "
      ]
     },
     "execution_count": 29,
     "metadata": {},
     "output_type": "execute_result"
    }
   ],
   "source": [
    "purchases[\"PriceUSD\"] = purchases.apply(lambda row : row[\"Price\"] / rates[row[\"CurrencyISO\"]], axis=1)\n",
    "purchases.head(5)"
   ]
  },
  {
   "cell_type": "code",
   "execution_count": 27,
   "metadata": {},
   "outputs": [
    {
     "data": {
      "text/plain": [
       "0.9461"
      ]
     },
     "execution_count": 27,
     "metadata": {},
     "output_type": "execute_result"
    }
   ],
   "source": [
    "rates[\"EUR\"]"
   ]
  }
 ],
 "metadata": {
  "kernelspec": {
   "display_name": "venv",
   "language": "python",
   "name": "python3"
  },
  "language_info": {
   "codemirror_mode": {
    "name": "ipython",
    "version": 3
   },
   "file_extension": ".py",
   "mimetype": "text/x-python",
   "name": "python",
   "nbconvert_exporter": "python",
   "pygments_lexer": "ipython3",
   "version": "3.10.6"
  },
  "orig_nbformat": 4,
  "vscode": {
   "interpreter": {
    "hash": "8f2f51675ed103f060b58e6669fdf9863595365d2e61293c17f9e092fb4de0f5"
   }
  }
 },
 "nbformat": 4,
 "nbformat_minor": 2
}
